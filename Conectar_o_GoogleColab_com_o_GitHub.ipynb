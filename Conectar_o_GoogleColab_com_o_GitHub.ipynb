{
  "nbformat": 4,
  "nbformat_minor": 0,
  "metadata": {
    "colab": {
      "name": "Conectar o GoogleColab com o GitHub.ipynb",
      "provenance": [],
      "authorship_tag": "ABX9TyNQir2LdAU3Y312IoiXP9m7",
      "include_colab_link": true
    },
    "kernelspec": {
      "name": "python3",
      "display_name": "Python 3"
    },
    "language_info": {
      "name": "python"
    }
  },
  "cells": [
    {
      "cell_type": "markdown",
      "metadata": {
        "id": "view-in-github",
        "colab_type": "text"
      },
      "source": [
        "<a href=\"https://colab.research.google.com/github/EngEleHugoNR/LearningToProgram/blob/main/Conectar_o_GoogleColab_com_o_GitHub.ipynb\" target=\"_parent\"><img src=\"https://colab.research.google.com/assets/colab-badge.svg\" alt=\"Open In Colab\"/></a>"
      ]
    },
    {
      "cell_type": "markdown",
      "source": [
        "#Conectar o GoogleColab no GitHub\n",
        "O processo de conexão entre plataformas solicita, como prérequisito o credenciamento em abas.\n",
        "\n",
        "\n",
        "\n",
        "1. Passo 1\n",
        "> Criar um repositorio **Público**\n",
        "\n",
        "\n",
        "2. Passo 2\n",
        "> GoogleColab > File > Save a Copy in GitHub\n",
        "\n",
        "3. Passo 3\n",
        "> Start to Program\n",
        "\n",
        "\n"
      ],
      "metadata": {
        "id": "YJhTrXwzBy5k"
      }
    },
    {
      "cell_type": "code",
      "execution_count": null,
      "metadata": {
        "id": "7sPgA8k3BF18"
      },
      "outputs": [],
      "source": [
        ""
      ]
    }
  ]
}