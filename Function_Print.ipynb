{
  "nbformat": 4,
  "nbformat_minor": 0,
  "metadata": {
    "colab": {
      "name": "Function_Print.ipynb",
      "provenance": [],
      "authorship_tag": "ABX9TyOB+MmcT7OWFiXVyvsztDla",
      "include_colab_link": true
    },
    "kernelspec": {
      "name": "python3",
      "display_name": "Python 3"
    },
    "language_info": {
      "name": "python"
    }
  },
  "cells": [
    {
      "cell_type": "markdown",
      "metadata": {
        "id": "view-in-github",
        "colab_type": "text"
      },
      "source": [
        "<a href=\"https://colab.research.google.com/github/EngEleHugoNR/LearningToProgram/blob/main/Function_Print.ipynb\" target=\"_parent\"><img src=\"https://colab.research.google.com/assets/colab-badge.svg\" alt=\"Open In Colab\"/></a>"
      ]
    },
    {
      "cell_type": "markdown",
      "source": [
        "#Função Print\n",
        "##Explicaçao Básica\n",
        ">  A função \"print\" ao chamada exibe mensagens na tela ou envia-as para outro dispositivo, imprimindo-as em arquivos de texto.\n",
        ">  Qualquer objeto, em qualquer quantidade. Os mais comuns são strings de texto e variáveis. Independente do tipo, sempre são convertidos em strings antes da impressão.\n"
      ],
      "metadata": {
        "id": "OEfWECEeExvN"
      }
    },
    {
      "cell_type": "markdown",
      "source": [
        "###Classes"
      ],
      "metadata": {
        "id": "y3MIndxgWioC"
      }
    },
    {
      "cell_type": "markdown",
      "source": [
        "#### Int"
      ],
      "metadata": {
        "id": "ingAR-OYSMxT"
      }
    },
    {
      "cell_type": "code",
      "source": [
        "A = 42  #<class 'int'\n",
        "print(A) \n",
        "type(A)"
      ],
      "metadata": {
        "colab": {
          "base_uri": "https://localhost:8080/"
        },
        "id": "PAyRRT9vSPZy",
        "outputId": "c3d9d1c3-9b7d-4080-c344-de551ba81e03"
      },
      "execution_count": 21,
      "outputs": [
        {
          "output_type": "stream",
          "name": "stdout",
          "text": [
            "42\n"
          ]
        },
        {
          "output_type": "execute_result",
          "data": {
            "text/plain": [
              "int"
            ]
          },
          "metadata": {},
          "execution_count": 21
        }
      ]
    },
    {
      "cell_type": "markdown",
      "source": [
        "####Float"
      ],
      "metadata": {
        "id": "Mpm-8gnFS0gD"
      }
    },
    {
      "cell_type": "code",
      "source": [
        "A = 3.14  # <class 'float'\n",
        "print(A)\n",
        "type(A)"
      ],
      "metadata": {
        "colab": {
          "base_uri": "https://localhost:8080/"
        },
        "id": "DvkfVD7YS3fZ",
        "outputId": "e467afa6-2fa3-45a6-ee97-7dc904443833"
      },
      "execution_count": 22,
      "outputs": [
        {
          "output_type": "stream",
          "name": "stdout",
          "text": [
            "3.14\n"
          ]
        },
        {
          "output_type": "execute_result",
          "data": {
            "text/plain": [
              "float"
            ]
          },
          "metadata": {},
          "execution_count": 22
        }
      ]
    },
    {
      "cell_type": "markdown",
      "source": [
        "####Complex"
      ],
      "metadata": {
        "id": "sTh_HmKZTHQZ"
      }
    },
    {
      "cell_type": "code",
      "source": [
        "A = 1+2j # <class 'complex\n",
        "print(A)\n",
        "type(A)"
      ],
      "metadata": {
        "colab": {
          "base_uri": "https://localhost:8080/"
        },
        "id": "TiWrT8-gTK1C",
        "outputId": "2867650b-e8cf-441f-8edd-b24c320be4af"
      },
      "execution_count": 23,
      "outputs": [
        {
          "output_type": "stream",
          "name": "stdout",
          "text": [
            "(1+2j)\n"
          ]
        },
        {
          "output_type": "execute_result",
          "data": {
            "text/plain": [
              "complex"
            ]
          },
          "metadata": {},
          "execution_count": 23
        }
      ]
    },
    {
      "cell_type": "markdown",
      "source": [
        "####Boolean"
      ],
      "metadata": {
        "id": "35XdvDU3TSw7"
      }
    },
    {
      "cell_type": "code",
      "source": [
        "A = True  # <class 'bool'\n",
        "print(A)\n",
        "type(A)"
      ],
      "metadata": {
        "id": "rp3sUAHbTWNB"
      },
      "execution_count": null,
      "outputs": []
    },
    {
      "cell_type": "markdown",
      "source": [
        "####Lista"
      ],
      "metadata": {
        "id": "5MBgVg2QTfKh"
      }
    },
    {
      "cell_type": "code",
      "source": [
        "A = [1,2,3] # <class 'list'\n",
        "print(A)\n",
        "type(A)"
      ],
      "metadata": {
        "colab": {
          "base_uri": "https://localhost:8080/"
        },
        "id": "L3jeg1kgTkiJ",
        "outputId": "55f77d05-8bf9-4541-a6ee-1b30b2fad301"
      },
      "execution_count": 24,
      "outputs": [
        {
          "output_type": "stream",
          "name": "stdout",
          "text": [
            "[1, 2, 3]\n"
          ]
        },
        {
          "output_type": "execute_result",
          "data": {
            "text/plain": [
              "list"
            ]
          },
          "metadata": {},
          "execution_count": 24
        }
      ]
    },
    {
      "cell_type": "markdown",
      "source": [
        "####Tuple"
      ],
      "metadata": {
        "id": "WbwtUK3CTvfz"
      }
    },
    {
      "cell_type": "code",
      "source": [
        "A = (1,2,3) # <class 'tuple'\n",
        "print(A)\n",
        "type(A)"
      ],
      "metadata": {
        "colab": {
          "base_uri": "https://localhost:8080/"
        },
        "id": "5gln3d_MTzCK",
        "outputId": "3fe67844-c61a-443e-d2c6-297e1f9ecb82"
      },
      "execution_count": 25,
      "outputs": [
        {
          "output_type": "stream",
          "name": "stdout",
          "text": [
            "(1, 2, 3)\n"
          ]
        },
        {
          "output_type": "execute_result",
          "data": {
            "text/plain": [
              "tuple"
            ]
          },
          "metadata": {},
          "execution_count": 25
        }
      ]
    },
    {
      "cell_type": "markdown",
      "source": [
        "####Set"
      ],
      "metadata": {
        "id": "6Y0-19csUEdJ"
      }
    },
    {
      "cell_type": "code",
      "source": [
        "A = {'red','green','blue'}  # <class 'set'\n",
        "print(A)\n",
        "type(A)"
      ],
      "metadata": {
        "colab": {
          "base_uri": "https://localhost:8080/"
        },
        "id": "8HYGTULfUD8J",
        "outputId": "351b0de6-a54d-4950-c2e2-91665b6e6a45"
      },
      "execution_count": 26,
      "outputs": [
        {
          "output_type": "stream",
          "name": "stdout",
          "text": [
            "{'green', 'red', 'blue'}\n"
          ]
        },
        {
          "output_type": "execute_result",
          "data": {
            "text/plain": [
              "set"
            ]
          },
          "metadata": {},
          "execution_count": 26
        }
      ]
    },
    {
      "cell_type": "markdown",
      "source": [
        "####Dict"
      ],
      "metadata": {
        "id": "RGXq-5PlUR1h"
      }
    },
    {
      "cell_type": "code",
      "source": [
        "A = {'name':'Alice','age':42} # <class 'dict'\n",
        "print(A)\n",
        "type(A)"
      ],
      "metadata": {
        "colab": {
          "base_uri": "https://localhost:8080/"
        },
        "id": "Q3jICsPaUUPx",
        "outputId": "67a8b043-a97b-4f1b-aacd-273a1f381cd4"
      },
      "execution_count": 27,
      "outputs": [
        {
          "output_type": "stream",
          "name": "stdout",
          "text": [
            "{'name': 'Alice', 'age': 42}\n"
          ]
        },
        {
          "output_type": "execute_result",
          "data": {
            "text/plain": [
              "dict"
            ]
          },
          "metadata": {},
          "execution_count": 27
        }
      ]
    },
    {
      "cell_type": "markdown",
      "source": [
        "####Str"
      ],
      "metadata": {
        "id": "UETEJq7tUfzh"
      }
    },
    {
      "cell_type": "code",
      "source": [
        "A = 'Hello'\n",
        "print(A)\n",
        "type(A)"
      ],
      "metadata": {
        "colab": {
          "base_uri": "https://localhost:8080/"
        },
        "id": "BwVPLQ_pUjhh",
        "outputId": "6e0ae0df-591a-46ae-c9a7-6ff05e414232"
      },
      "execution_count": 28,
      "outputs": [
        {
          "output_type": "stream",
          "name": "stdout",
          "text": [
            "Hello\n"
          ]
        },
        {
          "output_type": "execute_result",
          "data": {
            "text/plain": [
              "str"
            ]
          },
          "metadata": {},
          "execution_count": 28
        }
      ]
    },
    {
      "cell_type": "markdown",
      "source": [
        "####Paragrafo"
      ],
      "metadata": {
        "id": "GDEUXwGQQ2Pj"
      }
    },
    {
      "cell_type": "code",
      "execution_count": 4,
      "metadata": {
        "colab": {
          "base_uri": "https://localhost:8080/"
        },
        "id": "Xi2e28QCDy1x",
        "outputId": "588d1376-5468-41d1-f611-468f7a1668aa"
      },
      "outputs": [
        {
          "output_type": "stream",
          "name": "stdout",
          "text": [
            "\n",
            "    Escrevendo o texto\n",
            "    desta forma\n",
            "    conseguimos estruturar\n",
            "    o paragrafo\n",
            "    com várias linhas\n",
            "    \n"
          ]
        }
      ],
      "source": [
        "paragraph = '''\n",
        "...     Escrevendo o texto\n",
        "...     desta forma\n",
        "...     conseguimos estruturar\n",
        "...     o paragrafo\n",
        "...     com várias linhas\n",
        "...     '''\n",
        "...\n",
        ">>> print(paragraph)"
      ]
    },
    {
      "cell_type": "markdown",
      "source": [
        "### Exemplos"
      ],
      "metadata": {
        "id": "OnyVxNYyQ7YK"
      }
    },
    {
      "cell_type": "code",
      "source": [
        ""
      ],
      "metadata": {
        "id": "OGGhY5iiQgmf"
      },
      "execution_count": null,
      "outputs": []
    },
    {
      "cell_type": "code",
      "source": [
        ""
      ],
      "metadata": {
        "id": "oSUNPL4BQgji"
      },
      "execution_count": null,
      "outputs": []
    }
  ]
}